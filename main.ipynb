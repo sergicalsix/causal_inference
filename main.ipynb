{
 "cells": [
  {
   "cell_type": "code",
   "execution_count": 3,
   "id": "406cb6ab-c3f6-44d9-816d-fad3daf3a56c",
   "metadata": {
    "tags": []
   },
   "outputs": [
    {
     "data": {
      "text/html": [
       "<div>\n",
       "<style scoped>\n",
       "    .dataframe tbody tr th:only-of-type {\n",
       "        vertical-align: middle;\n",
       "    }\n",
       "\n",
       "    .dataframe tbody tr th {\n",
       "        vertical-align: top;\n",
       "    }\n",
       "\n",
       "    .dataframe thead th {\n",
       "        text-align: right;\n",
       "    }\n",
       "</style>\n",
       "<table border=\"1\" class=\"dataframe\">\n",
       "  <thead>\n",
       "    <tr style=\"text-align: right;\">\n",
       "      <th></th>\n",
       "      <th>y</th>\n",
       "      <th>x</th>\n",
       "      <th>t</th>\n",
       "      <th>y_t1</th>\n",
       "      <th>y_t0</th>\n",
       "    </tr>\n",
       "  </thead>\n",
       "  <tbody>\n",
       "    <tr>\n",
       "      <th>0</th>\n",
       "      <td>10</td>\n",
       "      <td>12</td>\n",
       "      <td>0</td>\n",
       "      <td>15</td>\n",
       "      <td>10</td>\n",
       "    </tr>\n",
       "    <tr>\n",
       "      <th>1</th>\n",
       "      <td>16</td>\n",
       "      <td>15</td>\n",
       "      <td>1</td>\n",
       "      <td>16</td>\n",
       "      <td>11</td>\n",
       "    </tr>\n",
       "    <tr>\n",
       "      <th>2</th>\n",
       "      <td>15</td>\n",
       "      <td>21</td>\n",
       "      <td>0</td>\n",
       "      <td>20</td>\n",
       "      <td>15</td>\n",
       "    </tr>\n",
       "    <tr>\n",
       "      <th>3</th>\n",
       "      <td>4</td>\n",
       "      <td>0</td>\n",
       "      <td>1</td>\n",
       "      <td>4</td>\n",
       "      <td>0</td>\n",
       "    </tr>\n",
       "    <tr>\n",
       "      <th>4</th>\n",
       "      <td>7</td>\n",
       "      <td>3</td>\n",
       "      <td>1</td>\n",
       "      <td>7</td>\n",
       "      <td>2</td>\n",
       "    </tr>\n",
       "  </tbody>\n",
       "</table>\n",
       "</div>"
      ],
      "text/plain": [
       "    y   x  t  y_t1  y_t0\n",
       "0  10  12  0    15    10\n",
       "1  16  15  1    16    11\n",
       "2  15  21  0    20    15\n",
       "3   4   0  1     4     0\n",
       "4   7   3  1     7     2"
      ]
     },
     "execution_count": 3,
     "metadata": {},
     "output_type": "execute_result"
    }
   ],
   "source": [
    "# ノック1\n",
    "import pandas as pd\n",
    "\n",
    "df = pd.read_csv('https://raw.githubusercontent.com/s1ok69oo/causal_inference_100knock/main/data/causal_knock1.csv')\n",
    "df.head()"
   ]
  },
  {
   "cell_type": "markdown",
   "id": "0a34db99-29e9-4fa4-9d62-46b73ebe7b81",
   "metadata": {},
   "source": [
    "変数名\tデータの概要\t備考\n",
    "\n",
    "y\t今季の受注件数\t観測される\n",
    "\n",
    "x\t前季の受注件数\t観測される\n",
    "\n",
    "t\t分析レポートが提供されたかどうかを表すダミー変数\t1: 提供された, 0:　提供されなかった\n",
    "\n",
    "y_t1\t分析レポートが提供された場合の今季の受注件数\t潜在的結果変数\n",
    "\n",
    "y_t0\t分析レポートが提供されなかった場合の今季の受注件数\t潜在的結果変数"
   ]
  },
  {
   "cell_type": "code",
   "execution_count": 5,
   "id": "c7242023-827a-4d1d-994b-132f89577128",
   "metadata": {
    "tags": []
   },
   "outputs": [
    {
     "data": {
      "text/plain": [
       "-0.8"
      ]
     },
     "execution_count": 5,
     "metadata": {},
     "output_type": "execute_result"
    }
   ],
   "source": [
    "(df.y - df.x).mean()"
   ]
  },
  {
   "cell_type": "code",
   "execution_count": 10,
   "id": "5ddcc7ed-7fa0-4acc-9ac9-f54c82e99154",
   "metadata": {
    "tags": []
   },
   "outputs": [
    {
     "data": {
      "image/png": "[encoded data removed]",
      "text/plain": [
       "<Figure size 640x480 with 1 Axes>"
      ]
     },
     "metadata": {},
     "output_type": "display_data"
    }
   ],
   "source": [
    "# ノック8\n",
    "import matplotlib.pyplot as plt\n",
    "%matplotlib inline\n",
    "df_t1 = df[df['t']==1]\n",
    "plt.hist(df_t1['x'], alpha=0.3, label='have report')\n",
    "df_t0 = df[df['t']==0]\n",
    "plt.hist(df_t0['x'], alpha=0.3, label='have no report')\n",
    "plt.legend()\n",
    "plt.show()"
   ]
  },
  {
   "cell_type": "code",
   "execution_count": 11,
   "id": "ce94c3ac-5288-4276-94fc-7393c1b4b306",
   "metadata": {
    "tags": []
   },
   "outputs": [
    {
     "data": {
      "text/plain": [
       "4.434285714285714"
      ]
     },
     "execution_count": 11,
     "metadata": {},
     "output_type": "execute_result"
    }
   ],
   "source": [
    "# ATEの推定\n",
    "# ノック9\n",
    "df_t1 = df[df['t']==1]\n",
    "df_t0 = df[df['t']==0]\n",
    "\n",
    "df_t1['y'].mean() - df_t0['y'].mean()"
   ]
  },
  {
   "cell_type": "code",
   "execution_count": 12,
   "id": "fc3b251e-d07f-4c68-a60f-52447d728169",
   "metadata": {
    "tags": []
   },
   "outputs": [
    {
     "name": "stdout",
     "output_type": "stream",
     "text": [
      "p値: 0.007380686135298631\n"
     ]
    }
   ],
   "source": [
    "from scipy import stats\n",
    "\n",
    "t, p = stats.ttest_ind(df_t1['y'], df_t0['y'], alternative='greater')\n",
    "print(f\"p値: {p}\")"
   ]
  },
  {
   "cell_type": "markdown",
   "id": "c71a5964-9ca7-446b-a687-b912d27ecb88",
   "metadata": {},
   "source": [
    "### 2章"
   ]
  },
  {
   "cell_type": "code",
   "execution_count": 13,
   "id": "2227eb49-be61-40b2-ba41-4722321680b1",
   "metadata": {
    "tags": []
   },
   "outputs": [],
   "source": [
    "df_rct = pd.read_csv('https://raw.githubusercontent.com/s1ok69oo/causal_inference_100knock/main/data/causal_knock2_rct.csv')\n",
    "\n",
    "df_reg = pd.read_csv('https://raw.githubusercontent.com/s1ok69oo/causal_inference_100knock/main/data/causal_knock2_reg.csv')"
   ]
  },
  {
   "cell_type": "code",
   "execution_count": 15,
   "id": "257739ff-6e52-4508-922c-88f4bbcfbe8d",
   "metadata": {
    "tags": []
   },
   "outputs": [
    {
     "data": {
      "text/html": [
       "<div>\n",
       "<style scoped>\n",
       "    .dataframe tbody tr th:only-of-type {\n",
       "        vertical-align: middle;\n",
       "    }\n",
       "\n",
       "    .dataframe tbody tr th {\n",
       "        vertical-align: top;\n",
       "    }\n",
       "\n",
       "    .dataframe thead th {\n",
       "        text-align: right;\n",
       "    }\n",
       "</style>\n",
       "<table border=\"1\" class=\"dataframe\">\n",
       "  <thead>\n",
       "    <tr style=\"text-align: right;\">\n",
       "      <th></th>\n",
       "      <th>y</th>\n",
       "      <th>t</th>\n",
       "      <th>x0</th>\n",
       "      <th>x1</th>\n",
       "      <th>x2</th>\n",
       "      <th>x3</th>\n",
       "    </tr>\n",
       "  </thead>\n",
       "  <tbody>\n",
       "    <tr>\n",
       "      <th>0</th>\n",
       "      <td>3500</td>\n",
       "      <td>1</td>\n",
       "      <td>4</td>\n",
       "      <td>14500</td>\n",
       "      <td>0</td>\n",
       "      <td>1</td>\n",
       "    </tr>\n",
       "    <tr>\n",
       "      <th>1</th>\n",
       "      <td>1000</td>\n",
       "      <td>0</td>\n",
       "      <td>5</td>\n",
       "      <td>7500</td>\n",
       "      <td>0</td>\n",
       "      <td>1</td>\n",
       "    </tr>\n",
       "    <tr>\n",
       "      <th>2</th>\n",
       "      <td>1500</td>\n",
       "      <td>1</td>\n",
       "      <td>0</td>\n",
       "      <td>3000</td>\n",
       "      <td>1</td>\n",
       "      <td>0</td>\n",
       "    </tr>\n",
       "    <tr>\n",
       "      <th>3</th>\n",
       "      <td>2500</td>\n",
       "      <td>1</td>\n",
       "      <td>3</td>\n",
       "      <td>9000</td>\n",
       "      <td>0</td>\n",
       "      <td>1</td>\n",
       "    </tr>\n",
       "    <tr>\n",
       "      <th>4</th>\n",
       "      <td>0</td>\n",
       "      <td>0</td>\n",
       "      <td>3</td>\n",
       "      <td>4000</td>\n",
       "      <td>1</td>\n",
       "      <td>0</td>\n",
       "    </tr>\n",
       "  </tbody>\n",
       "</table>\n",
       "</div>"
      ],
      "text/plain": [
       "      y  t  x0     x1  x2  x3\n",
       "0  3500  1   4  14500   0   1\n",
       "1  1000  0   5   7500   0   1\n",
       "2  1500  1   0   3000   1   0\n",
       "3  2500  1   3   9000   0   1\n",
       "4     0  0   3   4000   1   0"
      ]
     },
     "execution_count": 15,
     "metadata": {},
     "output_type": "execute_result"
    }
   ],
   "source": [
    "df_rct.head()"
   ]
  },
  {
   "cell_type": "code",
   "execution_count": 16,
   "id": "2d951431-5bef-4669-8ab6-d3301fba280c",
   "metadata": {
    "tags": []
   },
   "outputs": [
    {
     "data": {
      "text/html": [
       "<div>\n",
       "<style scoped>\n",
       "    .dataframe tbody tr th:only-of-type {\n",
       "        vertical-align: middle;\n",
       "    }\n",
       "\n",
       "    .dataframe tbody tr th {\n",
       "        vertical-align: top;\n",
       "    }\n",
       "\n",
       "    .dataframe thead th {\n",
       "        text-align: right;\n",
       "    }\n",
       "</style>\n",
       "<table border=\"1\" class=\"dataframe\">\n",
       "  <thead>\n",
       "    <tr style=\"text-align: right;\">\n",
       "      <th></th>\n",
       "      <th>y</th>\n",
       "      <th>t</th>\n",
       "      <th>x0</th>\n",
       "      <th>x1</th>\n",
       "      <th>x2</th>\n",
       "      <th>x3</th>\n",
       "    </tr>\n",
       "  </thead>\n",
       "  <tbody>\n",
       "    <tr>\n",
       "      <th>0</th>\n",
       "      <td>2500</td>\n",
       "      <td>1.0</td>\n",
       "      <td>4</td>\n",
       "      <td>9500</td>\n",
       "      <td>0</td>\n",
       "      <td>1</td>\n",
       "    </tr>\n",
       "    <tr>\n",
       "      <th>1</th>\n",
       "      <td>2000</td>\n",
       "      <td>0.0</td>\n",
       "      <td>5</td>\n",
       "      <td>9000</td>\n",
       "      <td>1</td>\n",
       "      <td>0</td>\n",
       "    </tr>\n",
       "    <tr>\n",
       "      <th>2</th>\n",
       "      <td>2000</td>\n",
       "      <td>0.0</td>\n",
       "      <td>0</td>\n",
       "      <td>7500</td>\n",
       "      <td>1</td>\n",
       "      <td>0</td>\n",
       "    </tr>\n",
       "    <tr>\n",
       "      <th>3</th>\n",
       "      <td>3000</td>\n",
       "      <td>0.0</td>\n",
       "      <td>3</td>\n",
       "      <td>10000</td>\n",
       "      <td>1</td>\n",
       "      <td>0</td>\n",
       "    </tr>\n",
       "    <tr>\n",
       "      <th>4</th>\n",
       "      <td>500</td>\n",
       "      <td>1.0</td>\n",
       "      <td>3</td>\n",
       "      <td>5500</td>\n",
       "      <td>0</td>\n",
       "      <td>1</td>\n",
       "    </tr>\n",
       "  </tbody>\n",
       "</table>\n",
       "</div>"
      ],
      "text/plain": [
       "      y    t  x0     x1  x2  x3\n",
       "0  2500  1.0   4   9500   0   1\n",
       "1  2000  0.0   5   9000   1   0\n",
       "2  2000  0.0   0   7500   1   0\n",
       "3  3000  0.0   3  10000   1   0\n",
       "4   500  1.0   3   5500   0   1"
      ]
     },
     "execution_count": 16,
     "metadata": {},
     "output_type": "execute_result"
    }
   ],
   "source": [
    "df_reg.head()"
   ]
  },
  {
   "cell_type": "code",
   "execution_count": 17,
   "id": "4aad37bf-1ff2-43f3-b8a8-9ff7da0fc393",
   "metadata": {
    "tags": []
   },
   "outputs": [],
   "source": [
    "df = df_reg.drop('x3', axis=1)"
   ]
  },
  {
   "cell_type": "code",
   "execution_count": 18,
   "id": "54dd4d6b-0621-4d8d-9e7a-070bbb4dc7a9",
   "metadata": {
    "tags": []
   },
   "outputs": [
    {
     "ename": "ModuleNotFoundError",
     "evalue": "No module named 'statsmodels'",
     "output_type": "error",
     "traceback": [
      "\u001b[0;31m---------------------------------------------------------------------------\u001b[0m",
      "\u001b[0;31mModuleNotFoundError\u001b[0m                       Traceback (most recent call last)",
      "Cell \u001b[0;32mIn[18], line 1\u001b[0m\n\u001b[0;32m----> 1\u001b[0m \u001b[38;5;28;01mimport\u001b[39;00m \u001b[38;5;21;01mstatsmodels\u001b[39;00m\u001b[38;5;21;01m.\u001b[39;00m\u001b[38;5;21;01mapi\u001b[39;00m \u001b[38;5;28;01mas\u001b[39;00m \u001b[38;5;21;01msm\u001b[39;00m\n\u001b[1;32m      3\u001b[0m \u001b[38;5;66;03m# 共変量\u001b[39;00m\n\u001b[1;32m      4\u001b[0m X \u001b[38;5;241m=\u001b[39m df[[\u001b[38;5;124m'\u001b[39m\u001b[38;5;124mt\u001b[39m\u001b[38;5;124m'\u001b[39m, \u001b[38;5;124m'\u001b[39m\u001b[38;5;124mx0\u001b[39m\u001b[38;5;124m'\u001b[39m, \u001b[38;5;124m'\u001b[39m\u001b[38;5;124mx1\u001b[39m\u001b[38;5;124m'\u001b[39m, \u001b[38;5;124m'\u001b[39m\u001b[38;5;124mx2\u001b[39m\u001b[38;5;124m'\u001b[39m]]\n",
      "\u001b[0;31mModuleNotFoundError\u001b[0m: No module named 'statsmodels'"
     ]
    }
   ],
   "source": [
    "import statsmodels.api as sm\n",
    "\n",
    "# 共変量\n",
    "X = df[['t', 'x0', 'x1', 'x2']]\n",
    "X = sm.add_constant(X)\n",
    "\n",
    "# 被説明変数\n",
    "y = df['y']\n",
    "\n",
    "# 結果を出力\n",
    "res = sm.OLS(y, X).fit()\n",
    "print(res.summary())"
   ]
  },
  {
   "cell_type": "code",
   "execution_count": 19,
   "id": "58791f61-fc5c-4e10-9f17-489c4bb2f9bc",
   "metadata": {
    "tags": []
   },
   "outputs": [
    {
     "data": {
      "image/png": "[encoded data removed]",
      "text/plain": [
       "<Figure size 640x480 with 1 Axes>"
      ]
     },
     "metadata": {},
     "output_type": "display_data"
    }
   ],
   "source": [
    "# ノック20\n",
    "import statsmodels.api as sm\n",
    "\n",
    "# 共変量\n",
    "X = df[['t', 'x1']]\n",
    "X = sm.add_constant(X)\n",
    "\n",
    "# 被説明変数\n",
    "y = df['y']\n",
    "\n",
    "# 結果を出力\n",
    "res = sm.OLS(y, X).fit()\n",
    "\n",
    "# 可視化\n",
    "cols = X.columns\n",
    "plt.bar(x=cols, height=res.params, yerr=res.bse, capsize=6, alpha=0.4)\n",
    "plt.ylim(0, 1000)\n",
    "plt.show()"
   ]
  },
  {
   "cell_type": "code",
   "execution_count": 21,
   "id": "1190479e-9e20-4367-a9df-b464923c7a98",
   "metadata": {
    "tags": []
   },
   "outputs": [
    {
     "data": {
      "text/html": [
       "<table class=\"simpletable\">\n",
       "<caption>OLS Regression Results</caption>\n",
       "<tr>\n",
       "  <th>Dep. Variable:</th>            <td>y</td>        <th>  R-squared:         </th> <td>   0.156</td> \n",
       "</tr>\n",
       "<tr>\n",
       "  <th>Model:</th>                   <td>OLS</td>       <th>  Adj. R-squared:    </th> <td>   0.155</td> \n",
       "</tr>\n",
       "<tr>\n",
       "  <th>Method:</th>             <td>Least Squares</td>  <th>  F-statistic:       </th> <td>   184.4</td> \n",
       "</tr>\n",
       "<tr>\n",
       "  <th>Date:</th>             <td>Mon, 17 Apr 2023</td> <th>  Prob (F-statistic):</th> <td>3.18e-74</td> \n",
       "</tr>\n",
       "<tr>\n",
       "  <th>Time:</th>                 <td>22:55:04</td>     <th>  Log-Likelihood:    </th> <td> -16509.</td> \n",
       "</tr>\n",
       "<tr>\n",
       "  <th>No. Observations:</th>      <td>  2000</td>      <th>  AIC:               </th> <td>3.302e+04</td>\n",
       "</tr>\n",
       "<tr>\n",
       "  <th>Df Residuals:</th>          <td>  1997</td>      <th>  BIC:               </th> <td>3.304e+04</td>\n",
       "</tr>\n",
       "<tr>\n",
       "  <th>Df Model:</th>              <td>     2</td>      <th>                     </th>     <td> </td>    \n",
       "</tr>\n",
       "<tr>\n",
       "  <th>Covariance Type:</th>      <td>nonrobust</td>    <th>                     </th>     <td> </td>    \n",
       "</tr>\n",
       "</table>\n",
       "<table class=\"simpletable\">\n",
       "<tr>\n",
       "    <td></td>       <th>coef</th>     <th>std err</th>      <th>t</th>      <th>P>|t|</th>  <th>[0.025</th>    <th>0.975]</th>  \n",
       "</tr>\n",
       "<tr>\n",
       "  <th>const</th> <td>  314.2865</td> <td>   69.931</td> <td>    4.494</td> <td> 0.000</td> <td>  177.140</td> <td>  451.433</td>\n",
       "</tr>\n",
       "<tr>\n",
       "  <th>t</th>     <td>  851.8932</td> <td>   44.412</td> <td>   19.182</td> <td> 0.000</td> <td>  764.795</td> <td>  938.991</td>\n",
       "</tr>\n",
       "<tr>\n",
       "  <th>x1</th>    <td>    0.0562</td> <td>    0.008</td> <td>    7.302</td> <td> 0.000</td> <td>    0.041</td> <td>    0.071</td>\n",
       "</tr>\n",
       "</table>\n",
       "<table class=\"simpletable\">\n",
       "<tr>\n",
       "  <th>Omnibus:</th>       <td>123.422</td> <th>  Durbin-Watson:     </th> <td>   1.915</td>\n",
       "</tr>\n",
       "<tr>\n",
       "  <th>Prob(Omnibus):</th> <td> 0.000</td>  <th>  Jarque-Bera (JB):  </th> <td> 124.751</td>\n",
       "</tr>\n",
       "<tr>\n",
       "  <th>Skew:</th>          <td> 0.568</td>  <th>  Prob(JB):          </th> <td>8.14e-28</td>\n",
       "</tr>\n",
       "<tr>\n",
       "  <th>Kurtosis:</th>      <td> 2.544</td>  <th>  Cond. No.          </th> <td>2.89e+04</td>\n",
       "</tr>\n",
       "</table><br/><br/>Notes:<br/>[1] Standard Errors assume that the covariance matrix of the errors is correctly specified.<br/>[2] The condition number is large, 2.89e+04. This might indicate that there are<br/>strong multicollinearity or other numerical problems."
      ],
      "text/plain": [
       "<class 'statsmodels.iolib.summary.Summary'>\n",
       "\"\"\"\n",
       "                            OLS Regression Results                            \n",
       "==============================================================================\n",
       "Dep. Variable:                      y   R-squared:                       0.156\n",
       "Model:                            OLS   Adj. R-squared:                  0.155\n",
       "Method:                 Least Squares   F-statistic:                     184.4\n",
       "Date:                Mon, 17 Apr 2023   Prob (F-statistic):           3.18e-74\n",
       "Time:                        22:55:04   Log-Likelihood:                -16509.\n",
       "No. Observations:                2000   AIC:                         3.302e+04\n",
       "Df Residuals:                    1997   BIC:                         3.304e+04\n",
       "Df Model:                           2                                         \n",
       "Covariance Type:            nonrobust                                         \n",
       "==============================================================================\n",
       "                 coef    std err          t      P>|t|      [0.025      0.975]\n",
       "------------------------------------------------------------------------------\n",
       "const        314.2865     69.931      4.494      0.000     177.140     451.433\n",
       "t            851.8932     44.412     19.182      0.000     764.795     938.991\n",
       "x1             0.0562      0.008      7.302      0.000       0.041       0.071\n",
       "==============================================================================\n",
       "Omnibus:                      123.422   Durbin-Watson:                   1.915\n",
       "Prob(Omnibus):                  0.000   Jarque-Bera (JB):              124.751\n",
       "Skew:                           0.568   Prob(JB):                     8.14e-28\n",
       "Kurtosis:                       2.544   Cond. No.                     2.89e+04\n",
       "==============================================================================\n",
       "\n",
       "Notes:\n",
       "[1] Standard Errors assume that the covariance matrix of the errors is correctly specified.\n",
       "[2] The condition number is large, 2.89e+04. This might indicate that there are\n",
       "strong multicollinearity or other numerical problems.\n",
       "\"\"\""
      ]
     },
     "execution_count": 21,
     "metadata": {},
     "output_type": "execute_result"
    }
   ],
   "source": [
    "res.summary()"
   ]
  },
  {
   "cell_type": "markdown",
   "id": "4264fca7-80d8-4cee-a63d-6584c6797503",
   "metadata": {},
   "source": [
    "### 3章\n"
   ]
  },
  {
   "cell_type": "code",
   "execution_count": null,
   "id": "f66683be-3f7a-49b0-a188-afcc01f04611",
   "metadata": {},
   "outputs": [],
   "source": [
    "\n",
    "\n",
    "df = pd.read_csv('https://raw.githubusercontent.com/s1ok69oo/causal_inference_100knock/main/data/causal_knock3.csv', index_col=0)"
   ]
  }
 ],
 "metadata": {
  "kernelspec": {
   "display_name": "Python 3 (ipykernel)",
   "language": "python",
   "name": "python3"
  },
  "language_info": {
   "codemirror_mode": {
    "name": "ipython",
    "version": 3
   },
   "file_extension": ".py",
   "mimetype": "text/x-python",
   "name": "python",
   "nbconvert_exporter": "python",
   "pygments_lexer": "ipython3",
   "version": "3.11.2"
  }
 },
 "nbformat": 4,
 "nbformat_minor": 5
}
